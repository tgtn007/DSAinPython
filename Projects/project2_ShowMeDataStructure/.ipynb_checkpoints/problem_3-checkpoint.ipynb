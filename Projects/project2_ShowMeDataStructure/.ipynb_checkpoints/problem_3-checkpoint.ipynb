{
 "cells": [
  {
   "cell_type": "code",
   "execution_count": 35,
   "metadata": {},
   "outputs": [],
   "source": [
    "import sys\n",
    "import heapq\n",
    "\n",
    "class HeapNode:\n",
    "    \n",
    "    def __init__(self, char, freq):\n",
    "        self.char = char\n",
    "        self.freq = freq\n",
    "        self.right = None\n",
    "        self.left = None\n",
    "\n",
    "    def __lt__(self, compare):\n",
    "        return self.freq < compare.freq\n",
    "\n",
    "    def __eq__(self, compare):\n",
    "        if compare is None:\n",
    "            return -1\n",
    "        if (not isinstance(compare, HeapNode)):\n",
    "            return -1\n",
    "        return self.freq == compare.freq"
   ]
  },
  {
   "cell_type": "code",
   "execution_count": 39,
   "metadata": {},
   "outputs": [],
   "source": [
    "encodes = {}  # Dictionary to store the encoded data\n",
    "reverse = {}  # Dictionary to store the reversed data for decoding\n",
    "def huffman_encoding(data):\n",
    "    heap = []\n",
    "\n",
    "    # Making frequency dict.\n",
    "    frequency = {}\n",
    "    for char in data:\n",
    "        if char not in frequency:\n",
    "            frequency[char] = 0\n",
    "        frequency[char] += 1\n",
    "\n",
    "    # Making the heap\n",
    "    for key in frequency:\n",
    "        temp = HeapNode(key, frequency[key])\n",
    "        heapq.heappush(heap, temp)\n",
    "\n",
    "    # Merging the nodes\n",
    "    while len(heap) > 1:\n",
    "        alpha = heapq.heappop(heap)\n",
    "        beta = heapq.heappop(heap)\n",
    "\n",
    "        merge = HeapNode(None, alpha.freq + beta.freq)\n",
    "\n",
    "        merge.left = alpha\n",
    "        merge.right = beta\n",
    "        heapq.heappush(heap, merge)\n",
    "\n",
    "    # Assigning Code to each nodes.\n",
    "    codes = \"\"\n",
    "    root = heapq.heappop(heap)\n",
    "    coding(root, codes)\n",
    "\n",
    "    encoded_data = \"\"\n",
    "    for char in data:\n",
    "        encoded_data += encodes[char]\n",
    "\n",
    "#     print(encoded_data)\n",
    "    return encoded_data, root\n",
    "\n",
    "\n",
    "# Defining a function to assign code by using recursion\n",
    "def coding(root, codes):\n",
    "    if root is None:\n",
    "        return\n",
    "\n",
    "    if root.char is not None:\n",
    "        encodes[root.char] = codes\n",
    "        reverse[codes] = root.char\n",
    "\n",
    "    coding(root.left, codes + \"0\")\n",
    "    coding(root.right, codes + \"1\")\n"
   ]
  },
  {
   "cell_type": "code",
   "execution_count": 40,
   "metadata": {},
   "outputs": [],
   "source": [
    "def huffman_decoding(data,tree):\n",
    "    encodes = \"\"\n",
    "    decoded_data = \"\"\n",
    "    # Searching for each data in reverse and appending to the list\n",
    "    for char in data:\n",
    "        encodes += char\n",
    "        if encodes in reverse:\n",
    "            character = reverse[encodes]\n",
    "            decoded_data += character\n",
    "            encodes = \"\"\n",
    "    return decoded_data"
   ]
  },
  {
   "cell_type": "code",
   "execution_count": 41,
   "metadata": {},
   "outputs": [
    {
     "name": "stdout",
     "output_type": "stream",
     "text": [
      "The size of the data is: 69\n",
      "\n",
      "The content of the data is: The bird is the word\n",
      "\n",
      "The size of the encoded data is: 36\n",
      "\n",
      "The content of the encoded data is: 1000111111100100001101110000101110110110100011111111001101010011100001\n",
      "\n",
      "The size of the decoded data is: 69\n",
      "\n",
      "The content of the decoded data is: The bird is the word\n",
      "\n"
     ]
    }
   ],
   "source": [
    "if __name__ == \"__main__\":\n",
    "    codes = {}\n",
    "\n",
    "    a_great_sentence = \"The bird is the word\"\n",
    "\n",
    "    print (\"The size of the data is: {}\\n\".format(sys.getsizeof(a_great_sentence)))\n",
    "    print (\"The content of the data is: {}\\n\".format(a_great_sentence))\n",
    "\n",
    "    encoded_data, tree = huffman_encoding(a_great_sentence)\n",
    "\n",
    "    print (\"The size of the encoded data is: {}\\n\".format(sys.getsizeof(int(encoded_data, base=2))))\n",
    "    print (\"The content of the encoded data is: {}\\n\".format(encoded_data))\n",
    "\n",
    "    decoded_data = huffman_decoding(encoded_data, tree)\n",
    "\n",
    "    print (\"The size of the decoded data is: {}\\n\".format(sys.getsizeof(decoded_data)))\n",
    "    print (\"The content of the decoded data is: {}\\n\".format(decoded_data))"
   ]
  }
 ],
 "metadata": {
  "kernelspec": {
   "display_name": "Python 3",
   "language": "python",
   "name": "python3"
  },
  "language_info": {
   "codemirror_mode": {
    "name": "ipython",
    "version": 3
   },
   "file_extension": ".py",
   "mimetype": "text/x-python",
   "name": "python",
   "nbconvert_exporter": "python",
   "pygments_lexer": "ipython3",
   "version": "3.7.3"
  }
 },
 "nbformat": 4,
 "nbformat_minor": 2
}
