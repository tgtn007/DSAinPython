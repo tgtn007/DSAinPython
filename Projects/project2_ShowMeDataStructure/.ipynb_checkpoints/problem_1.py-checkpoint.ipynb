{
 "cells": [
  {
   "cell_type": "code",
   "execution_count": 15,
   "metadata": {},
   "outputs": [],
   "source": [
    "class LRU_Cache(object):\n",
    "\n",
    "    def __init__(self, capacity):\n",
    "        # Initialize class variables\n",
    "        self.capacity = capacity\n",
    "        self.items = dict()\n",
    "        self.length = 0\n",
    "\n",
    "    def get(self, key):\n",
    "        # Retrieve item from provided key. Return -1 if nonexistent.\n",
    "        if key in self.items:\n",
    "            val = self.items.pop(key)           # Removing the element and adding to operate 'use' operation\n",
    "            self.set(key, val)\n",
    "            return val\n",
    "        return -1\n",
    "\n",
    "    def set(self, key, value):\n",
    "        # Set the value if the key is not present in the cache. If the cache is at capacity remove the oldest item. \n",
    "        if self.length < self.capacity:\n",
    "            self.items[key] = value\n",
    "            self.length += 1\n",
    "        elif key in self.items:         # If key already exists in cache, then no need to append, we'll overwrite.\n",
    "            self.items[key] = value    \n",
    "        else:                           # If cache overflows\n",
    "            key_to_remove = list(self.items.keys())[0]\n",
    "            del(self.items[key_to_remove])\n",
    "            self.length -= 1\n",
    "            self.set(key, value)        # To append now with updated length after deleting the least recently used cache.\n",
    "            pass\n",
    "        \n",
    "\n",
    "\n"
   ]
  },
  {
   "cell_type": "code",
   "execution_count": 16,
   "metadata": {},
   "outputs": [],
   "source": [
    "our_cache = LRU_Cache(5)\n",
    "\n",
    "our_cache.set(1, 1);\n",
    "our_cache.set(2, 2);\n",
    "our_cache.set(3, 3);\n",
    "our_cache.set(4, 4);"
   ]
  },
  {
   "cell_type": "code",
   "execution_count": 17,
   "metadata": {},
   "outputs": [
    {
     "name": "stdout",
     "output_type": "stream",
     "text": [
      "1\n",
      "2\n",
      "-1\n"
     ]
    }
   ],
   "source": [
    "print(our_cache.get(1))       # returns 1\n",
    "print(our_cache.get(2))       # returns 2\n",
    "print(our_cache.get(9))      # returns -1 because 9 is not present in the cache"
   ]
  },
  {
   "cell_type": "code",
   "execution_count": 18,
   "metadata": {},
   "outputs": [
    {
     "name": "stdout",
     "output_type": "stream",
     "text": [
      "-1\n"
     ]
    }
   ],
   "source": [
    "our_cache.set(5, 5) \n",
    "our_cache.set(6, 6)\n",
    "\n",
    "print(our_cache.get(3))      # returns -1 because the cache reached it's capacity and 3 was the least recently used entry"
   ]
  }
 ],
 "metadata": {
  "kernelspec": {
   "display_name": "Python 3",
   "language": "python",
   "name": "python3"
  },
  "language_info": {
   "codemirror_mode": {
    "name": "ipython",
    "version": 3
   },
   "file_extension": ".py",
   "mimetype": "text/x-python",
   "name": "python",
   "nbconvert_exporter": "python",
   "pygments_lexer": "ipython3",
   "version": "3.7.3"
  }
 },
 "nbformat": 4,
 "nbformat_minor": 2
}
