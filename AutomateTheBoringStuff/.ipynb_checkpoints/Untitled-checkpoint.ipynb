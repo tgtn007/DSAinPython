{
 "cells": [
  {
   "cell_type": "markdown",
   "metadata": {},
   "source": [
    "# Guess the Number"
   ]
  },
  {
   "cell_type": "code",
   "execution_count": 1,
   "metadata": {},
   "outputs": [
    {
     "name": "stdout",
     "output_type": "stream",
     "text": [
      "Hello. What is your name\n",
      "Arpit\n",
      "WellArpit, I am thinking of a number between 1 and 20\n",
      "Take a guess\n",
      "23\n",
      "Your guess is too high\n",
      "Take a guess\n",
      "12\n",
      "Your guess is too low\n",
      "Take a guess\n",
      "14\n",
      "Your guess is too low\n",
      "Take a guess\n",
      "16\n",
      "Your guess is too low\n",
      "Take a guess\n",
      "18\n",
      "Good job, Arpit! You guessed the right number\n"
     ]
    }
   ],
   "source": [
    "# This is a guess the number game.\n",
    "import random\n",
    "print('Hello. What is your name')\n",
    "name = input()\n",
    "secretNumber = random.randint(1, 20)\n",
    "print('Well ' + name + ', I am thinking of a number between 1 and 20')\n",
    "\n",
    "# Ask the player to guess 6 times\n",
    "for guessTaken in range(1, 7):\n",
    "    print('Take a guess')\n",
    "    guess = int(input())\n",
    "    if guess < secretNumber:\n",
    "        print('Your guess is too low')\n",
    "    elif guess > secretNumber:\n",
    "        print('Your guess is too high')\n",
    "    else: \n",
    "        # This is for correct guess\n",
    "        break\n",
    "\n",
    "if guess == secretNumber:\n",
    "    print('Good job, ' + name + '! You guessed the right number')\n",
    "else:\n",
    "    print('Nope. The number I was thinking of was' + str(secretNumber) + '.')"
   ]
  }
 ],
 "metadata": {
  "kernelspec": {
   "display_name": "Python 3",
   "language": "python",
   "name": "python3"
  },
  "language_info": {
   "codemirror_mode": {
    "name": "ipython",
    "version": 3
   },
   "file_extension": ".py",
   "mimetype": "text/x-python",
   "name": "python",
   "nbconvert_exporter": "python",
   "pygments_lexer": "ipython3",
   "version": "3.7.3"
  }
 },
 "nbformat": 4,
 "nbformat_minor": 4
}
