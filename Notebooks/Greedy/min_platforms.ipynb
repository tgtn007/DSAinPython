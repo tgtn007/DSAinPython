{
 "cells": [
  {
   "cell_type": "markdown",
   "metadata": {
    "graffitiCellId": "id_m2e34is"
   },
   "source": [
    "## Problem Statement\n",
    "\n",
    "Given arrival and departure times of trains on a single day in a railway platform, find out the minimum number of platforms required so that no train has to wait for the other(s) to leave. \n",
    "\n",
    "You will be given arrival and departure times in the form of a list.\n",
    "\n",
    "Note: Time `hh:mm` would be written as integer `hhmm` for e.g. `9:30` would be written as `930`. Similarly, `13:45` would be given as `1345`"
   ]
  },
  {
   "cell_type": "code",
   "execution_count": 22,
   "metadata": {
    "graffitiCellId": "id_z8cclxx"
   },
   "outputs": [],
   "source": [
    "def test_function(test_case):\n",
    "    arrival = test_case[0]\n",
    "    departure = test_case[1]\n",
    "    solution = test_case[2]\n",
    "    \n",
    "    output = min_platforms(arrival, departure)\n",
    "    if output == solution:\n",
    "        print(\"Pass\")\n",
    "    else:\n",
    "        print(\"Fail\")"
   ]
  },
  {
   "cell_type": "code",
   "execution_count": 24,
   "metadata": {
    "graffitiCellId": "id_mgzo0p4"
   },
   "outputs": [],
   "source": [
    "def min_platforms(arrival, departure):\n",
    "    arrival.sort()\n",
    "    departure.sort()\n",
    "\n",
    "    platform_count = 1\n",
    "    output = 1\n",
    "    i = 1\n",
    "    j = 0\n",
    "\n",
    "    while i < len(arrival) and j < len(arrival):\n",
    "\n",
    "        if arrival[i] < departure[j]:\n",
    "            platform_count += 1\n",
    "            i += 1\n",
    "\n",
    "            if platform_count > output:\n",
    "                output = platform_count\n",
    "        else:\n",
    "            platform_count -= 1\n",
    "            j += 1\n",
    "\n",
    "    return output"
   ]
  },
  {
   "cell_type": "code",
   "execution_count": 25,
   "metadata": {
    "graffitiCellId": "id_3y01n63"
   },
   "outputs": [
    {
     "name": "stdout",
     "output_type": "stream",
     "text": [
      "Pass\n"
     ]
    }
   ],
   "source": [
    "arrival = [900,  940, 950,  1100, 1500, 1800]\n",
    "departure = [910, 1200, 1120, 1130, 1900, 2000]\n",
    "test_case = [arrival, departure, 3]\n",
    "\n",
    "test_function(test_case)"
   ]
  },
  {
   "cell_type": "code",
   "execution_count": 26,
   "metadata": {
    "graffitiCellId": "id_sdzncbd"
   },
   "outputs": [
    {
     "name": "stdout",
     "output_type": "stream",
     "text": [
      "Pass\n"
     ]
    }
   ],
   "source": [
    "arrival = [200, 210, 300, 320, 350, 500]\n",
    "departure = [230, 340, 320, 430, 400, 520]\n",
    "test_case = [arrival, departure, 2]\n",
    "test_function(test_case)"
   ]
  }
 ],
 "metadata": {
  "graffiti": {
   "firstAuthorId": "dev",
   "id": "id_zzreyx5",
   "language": "EN"
  },
  "kernelspec": {
   "display_name": "Python 3",
   "language": "python",
   "name": "python3"
  },
  "language_info": {
   "codemirror_mode": {
    "name": "ipython",
    "version": 3
   },
   "file_extension": ".py",
   "mimetype": "text/x-python",
   "name": "python",
   "nbconvert_exporter": "python",
   "pygments_lexer": "ipython3",
   "version": "3.6.3"
  }
 },
 "nbformat": 4,
 "nbformat_minor": 2
}
