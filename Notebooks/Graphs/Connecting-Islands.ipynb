{
 "cells": [
  {
   "cell_type": "markdown",
   "metadata": {
    "graffitiCellId": "id_2ypsk8q"
   },
   "source": [
    "### Problem Statements\n",
    "\n",
    "In an ocean, there are `n` islands some of which are connected via bridges. Travelling over a bridge has some cost attaced with it. Find bridges in such a way that all islands are connected with minimum cost of travelling. \n",
    "\n",
    "You can assume that there is at least one possible way in which all islands are connected with each other. \n",
    "\n",
    "You will be provided with two input parameters:\n",
    "    \n",
    "1. `num_islands` = number of islands\n",
    "    \n",
    "2. `bridge_config` = list of lists. \n",
    "    Each inner list will have 3 elements:\n",
    "        a. island A\n",
    "        b. island B\n",
    "        c. cost of bridge connecting both islands\n",
    "                       \n",
    "    Each island is represented using a number\n",
    "     \n",
    "**Example:**                       \n",
    "* `num_islands = 4`\n",
    "* `bridge_config = [[1, 2, 1], [2, 3, 4], [1, 4, 3], [4, 3, 2], [1, 3, 10]]`\n",
    "       \n",
    "Input parameters explanation:\n",
    "    1. Number of islands = 4\n",
    "    2. Island 1 and 2 are connected via a bridge with cost = 1\n",
    "       Island 2 and 3 are connected via a bridge with cost = 4\n",
    "       Island 1 and 4 are connected via a bridge with cost = 3\n",
    "       Island 4 and 3 are connected via a bridge with cost = 2\n",
    "       Island 1 and 3 are connected via a bridge with cost = 10\n",
    "       \n",
    "In this example if we are connecting bridges like this...\n",
    "* between 1 and 2 with cost = 1\n",
    "* between 1 and 4 with cost = 3\n",
    "* between 4 and 3 with cost = 2  \n",
    "\n",
    "...then we connect all 4 islands with `cost = 6` which is the minimum traveling cost.\n"
   ]
  },
  {
   "cell_type": "markdown",
   "metadata": {
    "graffitiCellId": "id_83kmdhq"
   },
   "source": [
    "### Hint\n",
    "\n",
    "In addition to using a graph, you may want to use a custom priority queue for solving this problem.\n",
    "\n",
    "If you do not want to create a custom priority queue, you can use Python's `heapq` implementation.\n",
    "\n",
    "Using the `heapq` module, you can convert an existing list of items into a heap. The following two functionalities can be very handy for this problem:\n",
    "\n",
    "1. `heappush(heap, item)` — add `item` to the `heap`\n",
    "2. `heappop(heap)` — remove the smallest item from the `heap`\n",
    "\n",
    "Let's look at the above methods in action. We start by creating a list of integers."
   ]
  },
  {
   "cell_type": "markdown",
   "metadata": {
    "graffitiCellId": "id_bdreuuy"
   },
   "source": [
    "### `heappush`"
   ]
  },
  {
   "cell_type": "code",
   "execution_count": 4,
   "metadata": {
    "graffitiCellId": "id_9l6a6q2"
   },
   "outputs": [
    {
     "ename": "ImportError",
     "evalue": "cannot import name 'heapq'",
     "output_type": "error",
     "traceback": [
      "\u001b[0;31m---------------------------------------------------------------------------\u001b[0m",
      "\u001b[0;31mImportError\u001b[0m                               Traceback (most recent call last)",
      "\u001b[0;32m<ipython-input-4-ba32a88171ad>\u001b[0m in \u001b[0;36m<module>\u001b[0;34m()\u001b[0m\n\u001b[1;32m      1\u001b[0m \u001b[0;31m# initialize an empty list\u001b[0m\u001b[0;34m\u001b[0m\u001b[0;34m\u001b[0m\u001b[0m\n\u001b[0;32m----> 2\u001b[0;31m \u001b[0;32mfrom\u001b[0m \u001b[0mcollections\u001b[0m \u001b[0;32mimport\u001b[0m \u001b[0mheapq\u001b[0m\u001b[0;34m\u001b[0m\u001b[0m\n\u001b[0m\u001b[1;32m      3\u001b[0m \u001b[0mheap\u001b[0m \u001b[0;34m=\u001b[0m \u001b[0mheapq\u001b[0m\u001b[0;34m(\u001b[0m\u001b[0;34m)\u001b[0m\u001b[0;34m\u001b[0m\u001b[0m\n\u001b[1;32m      4\u001b[0m \u001b[0;34m\u001b[0m\u001b[0m\n\u001b[1;32m      5\u001b[0m \u001b[0;31m# insert 5 into heap\u001b[0m\u001b[0;34m\u001b[0m\u001b[0;34m\u001b[0m\u001b[0m\n",
      "\u001b[0;31mImportError\u001b[0m: cannot import name 'heapq'"
     ]
    }
   ],
   "source": [
    "# initialize an empty list \n",
    "# from collections import heapq\n",
    "heap = heapq()\n",
    "\n",
    "# insert 5 into heap\n",
    "heapq.heappush(heap, 6)\n",
    "\n",
    "# insert 6 into heap\n",
    "heapq.heappush(heap, 6)\n",
    "\n",
    "# insert 2 into heap\n",
    "heapq.heappush(heap, 2)\n",
    "\n",
    "# insert 1 into heap\n",
    "heapq.heappush(heap, 1)\n",
    "\n",
    "# insert 9 into heap\n",
    "heapq.heappush(heap, 9)\n",
    "\n",
    "print(\"After pushing, heap looks like: {}\".format(heap))"
   ]
  },
  {
   "cell_type": "markdown",
   "metadata": {
    "graffitiCellId": "id_g622hmp"
   },
   "source": [
    "### `heappop`"
   ]
  },
  {
   "cell_type": "code",
   "execution_count": 5,
   "metadata": {
    "graffitiCellId": "id_wnum5bl"
   },
   "outputs": [
    {
     "ename": "IndexError",
     "evalue": "index out of range",
     "output_type": "error",
     "traceback": [
      "\u001b[0;31m---------------------------------------------------------------------------\u001b[0m",
      "\u001b[0;31mIndexError\u001b[0m                                Traceback (most recent call last)",
      "\u001b[0;32m<ipython-input-5-e006fd7307de>\u001b[0m in \u001b[0;36m<module>\u001b[0;34m()\u001b[0m\n\u001b[1;32m      1\u001b[0m \u001b[0;31m# pop and return smallest element from the heap\u001b[0m\u001b[0;34m\u001b[0m\u001b[0;34m\u001b[0m\u001b[0m\n\u001b[0;32m----> 2\u001b[0;31m \u001b[0msmallest\u001b[0m \u001b[0;34m=\u001b[0m \u001b[0mheapq\u001b[0m\u001b[0;34m.\u001b[0m\u001b[0mheappop\u001b[0m\u001b[0;34m(\u001b[0m\u001b[0mheap\u001b[0m\u001b[0;34m)\u001b[0m\u001b[0;34m\u001b[0m\u001b[0m\n\u001b[0m\u001b[1;32m      3\u001b[0m \u001b[0;34m\u001b[0m\u001b[0m\n\u001b[1;32m      4\u001b[0m \u001b[0mprint\u001b[0m\u001b[0;34m(\u001b[0m\u001b[0;34m\"Smallest element in the original list was: {}\"\u001b[0m\u001b[0;34m.\u001b[0m\u001b[0mformat\u001b[0m\u001b[0;34m(\u001b[0m\u001b[0msmallest\u001b[0m\u001b[0;34m)\u001b[0m\u001b[0;34m)\u001b[0m\u001b[0;34m\u001b[0m\u001b[0m\n\u001b[1;32m      5\u001b[0m \u001b[0;34m\u001b[0m\u001b[0m\n",
      "\u001b[0;31mIndexError\u001b[0m: index out of range"
     ]
    }
   ],
   "source": [
    "# pop and return smallest element from the heap\n",
    "smallest = heapq.heappop(heap)   \n",
    "\n",
    "print(\"Smallest element in the original list was: {}\".format(smallest))\n",
    "\n",
    "print(\"After popping, heap looks like: {}\".format(heap))"
   ]
  },
  {
   "cell_type": "markdown",
   "metadata": {
    "graffitiCellId": "id_kuyx4j2"
   },
   "source": [
    "### `heappush` and `heappop` for items with multiple entries\n",
    "\n",
    "Note: If you insert a tuple inside the heap, the element at 0th index of the tuple is used for comparision\n"
   ]
  },
  {
   "cell_type": "code",
   "execution_count": 6,
   "metadata": {
    "graffitiCellId": "id_namr80b"
   },
   "outputs": [
    {
     "name": "stdout",
     "output_type": "stream",
     "text": [
      "After pushing, now heap looks like: [(-1, 5), (0, 1), (2, 0), (5, -1)]\n"
     ]
    }
   ],
   "source": [
    "heap = list()\n",
    "\n",
    "heapq.heappush(heap, (0, 1))\n",
    "\n",
    "heapq.heappush(heap, (-1, 5))\n",
    "\n",
    "heapq.heappush(heap, (2, 0))\n",
    "\n",
    "heapq.heappush(heap, (5, -1))\n",
    "\n",
    "print(\"After pushing, now heap looks like: {}\".format(heap))"
   ]
  },
  {
   "cell_type": "code",
   "execution_count": 7,
   "metadata": {
    "graffitiCellId": "id_nm8mxqe"
   },
   "outputs": [
    {
     "name": "stdout",
     "output_type": "stream",
     "text": [
      "Smallest element in the original list was: (-1, 5)\n",
      "After popping, heap looks like: [(0, 1), (5, -1), (2, 0)]\n"
     ]
    }
   ],
   "source": [
    "# pop and return smallest element from the heap\n",
    "smallest = heapq.heappop(heap)   \n",
    "\n",
    "print(\"Smallest element in the original list was: {}\".format(smallest))\n",
    "\n",
    "print(\"After popping, heap looks like: {}\".format(heap))"
   ]
  },
  {
   "cell_type": "markdown",
   "metadata": {
    "graffitiCellId": "id_x0cx1fl"
   },
   "source": [
    "Now that you know about `heapq`, you can use it to solve the given problem. You are also free to create your own implementatin of Priority Queues.\n",
    "\n",
    "Write code in the following function to find and return the minimum cost required to travel all islands via bridges."
   ]
  },
  {
   "cell_type": "code",
   "execution_count": 22,
   "metadata": {
    "graffitiCellId": "id_igrfgn6"
   },
   "outputs": [],
   "source": [
    "def get_minimum_cost_of_connecting(num_islands, bridge_config):\n",
    "    \"\"\"\n",
    "    :param: num_islands - number of islands\n",
    "    :param: bridge_config - bridge configuration as explained in the problem statement\n",
    "    return: cost (int) minimum cost of connecting all islands\n",
    "    TODO complete this method to returh minimum cost of connecting all islands\n",
    "    \"\"\"\n",
    "    pass"
   ]
  },
  {
   "cell_type": "markdown",
   "metadata": {
    "graffitiCellId": "id_07rfocu"
   },
   "source": [
    "<span class=\"graffiti-highlight graffiti-id_07rfocu-id_sgw589w\"><i></i><button>Hide Solution</button></span>"
   ]
  },
  {
   "cell_type": "code",
   "execution_count": 8,
   "metadata": {
    "graffitiCellId": "id_sgw589w"
   },
   "outputs": [],
   "source": [
    "# Solution\n",
    "\n",
    "# The following Solution makes use of one of Python's PriorityQueue implementation (heapq)\n",
    "# For more details - https://thomas-cokelaer.info/tutorials/python/module_heapq.html\n",
    "import heapq\n",
    "def create_graph(num_islands, bridge_config):\n",
    "    \"\"\"\n",
    "    Helper function to create graph using adjacency list implementation\n",
    "    \"\"\"\n",
    "    adjacency_list = [list() for _ in range(num_islands + 1)]\n",
    "    \n",
    "    for config in bridge_config:\n",
    "        source = config[0]\n",
    "        destination = config[1]\n",
    "        cost = config[2]\n",
    "        adjacency_list[source].append((destination, cost))\n",
    "        adjacency_list[destination].append((source, cost))\n",
    "\n",
    "    return adjacency_list\n",
    "\n",
    "def minimum_cost(graph):\n",
    "    \"\"\"\n",
    "    Helper function to find minimum cost of connecting all islands\n",
    "    \"\"\"\n",
    "    \n",
    "    # start with vertex 1 (any vertex can be chosen)\n",
    "    start_vertex = 1\n",
    "    \n",
    "    # initialize a list to keep track of vertices that are visited\n",
    "    visited = [False for _ in range(len(graph) + 1)]\n",
    "    \n",
    "    # initialize starting list - (edge_cost, neighbor)\n",
    "    heap = [(0, start_vertex)]\n",
    "    total_cost = 0\n",
    "\n",
    "    while len(heap) > 0:\n",
    "        cost, current_vertex = heapq.heappop(heap)\n",
    "        \n",
    "        # check if current_vertex is already visited\n",
    "        if visited[current_vertex]:\n",
    "            continue\n",
    "\n",
    "        # else add cost to total-cost\n",
    "        total_cost += cost\n",
    "\n",
    "        for neighbor, edge_cost in graph[current_vertex]:\n",
    "            heapq.heappush(heap, (edge_cost, neighbor))\n",
    "\n",
    "        # mark current vertex as visited\n",
    "        visited[current_vertex] = True\n",
    "\n",
    "    return total_cost\n",
    "\n",
    "def get_minimum_cost_of_connecting(num_islands, bridge_config):\n",
    "    graph = create_graph(num_islands, bridge_config)\n",
    "    return minimum_cost(graph)"
   ]
  },
  {
   "cell_type": "code",
   "execution_count": 9,
   "metadata": {
    "graffitiCellId": "id_pevivew"
   },
   "outputs": [],
   "source": [
    "def test_function(test_case):\n",
    "    num_islands = test_case[0]\n",
    "    bridge_config = test_case[1]\n",
    "    solution = test_case[2]\n",
    "    output = get_minimum_cost_of_connecting(num_islands, bridge_config)\n",
    "    \n",
    "    if output == solution:\n",
    "        print(\"Pass\")\n",
    "    else:\n",
    "        print(\"Fail\")"
   ]
  },
  {
   "cell_type": "code",
   "execution_count": 10,
   "metadata": {
    "graffitiCellId": "id_5j7jeic"
   },
   "outputs": [
    {
     "name": "stdout",
     "output_type": "stream",
     "text": [
      "Pass\n"
     ]
    }
   ],
   "source": [
    "num_islands = 4\n",
    "bridge_config = [[1, 2, 1], [2, 3, 4], [1, 4, 3], [4, 3, 2], [1, 3, 10]]\n",
    "solution = 6\n",
    "\n",
    "test_case = [num_islands, bridge_config, solution]\n",
    "test_function(test_case)"
   ]
  },
  {
   "cell_type": "code",
   "execution_count": 11,
   "metadata": {
    "graffitiCellId": "id_txlblpb"
   },
   "outputs": [
    {
     "name": "stdout",
     "output_type": "stream",
     "text": [
      "Pass\n"
     ]
    }
   ],
   "source": [
    "num_islands = 5\n",
    "bridge_config = [[1, 2, 5], [1, 3, 8], [2, 3, 9]]\n",
    "solution = 13\n",
    "\n",
    "test_case = [num_islands, bridge_config, solution]\n",
    "test_function(test_case)"
   ]
  },
  {
   "cell_type": "code",
   "execution_count": 12,
   "metadata": {
    "graffitiCellId": "id_x9pmr53"
   },
   "outputs": [
    {
     "name": "stdout",
     "output_type": "stream",
     "text": [
      "Pass\n"
     ]
    }
   ],
   "source": [
    "num_islands = 5\n",
    "bridge_config = [[1, 2, 3], [1, 5, 9], [2, 3, 10], [4, 3, 9]]\n",
    "solution = 31\n",
    "\n",
    "test_case = [num_islands, bridge_config, solution]\n",
    "test_function(test_case)"
   ]
  },
  {
   "cell_type": "code",
   "execution_count": null,
   "metadata": {
    "graffitiCellId": "id_gizn58x"
   },
   "outputs": [],
   "source": []
  }
 ],
 "metadata": {
  "graffiti": {
   "firstAuthorId": "dev",
   "id": "id_j75mgso",
   "language": "EN"
  },
  "kernelspec": {
   "display_name": "Python 3",
   "language": "python",
   "name": "python3"
  },
  "language_info": {
   "codemirror_mode": {
    "name": "ipython",
    "version": 3
   },
   "file_extension": ".py",
   "mimetype": "text/x-python",
   "name": "python",
   "nbconvert_exporter": "python",
   "pygments_lexer": "ipython3",
   "version": "3.6.3"
  }
 },
 "nbformat": 4,
 "nbformat_minor": 2
}
