{
 "cells": [
  {
   "cell_type": "markdown",
   "metadata": {},
   "source": [
    "# Variations on Binary Search \n",
    "\n",
    "Now that you've gone through the work of building a binary search function, let's take some time to try out a few exercises that are variations (or extensions) of binary search. We'll provide the function for you to start:"
   ]
  },
  {
   "cell_type": "code",
   "execution_count": 1,
   "metadata": {},
   "outputs": [],
   "source": [
    "def recursive_binary_search(target, source, left=0):\n",
    "    if len(source) == 0:\n",
    "        return None\n",
    "    center = (len(source)-1) // 2\n",
    "    if source[center] == target:\n",
    "        return center + left\n",
    "    elif source[center] < target:\n",
    "        return recursive_binary_search(target, source[center+1:], left+center+1)\n",
    "    else:\n",
    "        return recursive_binary_search(target, source[:center], left)"
   ]
  },
  {
   "cell_type": "markdown",
   "metadata": {},
   "source": [
    "## Find First\n",
    "\n",
    "The binary search function is guaranteed to return _an_ index for the element you're looking for in an array, but what if the element appears more than once?\n",
    "\n",
    "Consider this array:\n",
    "\n",
    "`[1, 3, 5, 7, 7, 7, 8, 11, 12]`\n",
    "\n",
    "Let's find the number 7:"
   ]
  },
  {
   "cell_type": "code",
   "execution_count": 2,
   "metadata": {},
   "outputs": [
    {
     "data": {
      "text/plain": [
       "4"
      ]
     },
     "execution_count": 2,
     "metadata": {},
     "output_type": "execute_result"
    }
   ],
   "source": [
    "multiple = [1, 3, 5, 7, 7, 7, 8, 11, 12]\n",
    "recursive_binary_search(7, multiple)"
   ]
  },
  {
   "cell_type": "markdown",
   "metadata": {},
   "source": [
    "### Hmm...\n",
    "\n",
    "Looks like we got the index 4, which is _correct_, but what if we wanted to find the _first_ occurrence of an element, rather than just any occurrence?\n",
    "\n",
    "Write a new function: `find_first()` that uses binary_search as a starting point.\n",
    "\n",
    "> Hint: You shouldn't need to modify binary_search() at all."
   ]
  },
  {
   "cell_type": "code",
   "execution_count": 4,
   "metadata": {},
   "outputs": [
    {
     "name": "stdout",
     "output_type": "stream",
     "text": [
      "3\n",
      "None\n"
     ]
    }
   ],
   "source": [
    "def find_first(target, source):\n",
    "    index = recursive_binary_search(target, source, 0)\n",
    "    if not index:\n",
    "        return None\n",
    "    while source[index] == target:\n",
    "        if index == 0:\n",
    "            return 0\n",
    "        if source[index-1]==target:\n",
    "            index -= 1\n",
    "        else:\n",
    "            return index\n",
    "    pass\n",
    "\n",
    "multiple = [1, 3, 5, 7, 7, 7, 8, 11, 12, 13, 14, 15]\n",
    "print(find_first(7, multiple)) # Should return 3\n",
    "print(find_first(9, multiple)) # Should return None\n",
    "\n",
    "\n",
    "## Add your own tests to verify that your code works!"
   ]
  },
  {
   "cell_type": "markdown",
   "metadata": {},
   "source": [
    "## Contains\n",
    "\n",
    "The second variation is a function that returns a boolean value indicating whether an element is _present_, but with no information about the location of that element.\n",
    "\n",
    "For example:\n",
    "\n",
    "```python\n",
    "letters = ['a', 'c', 'd', 'f', 'g']\n",
    "print(contains('a', letters)) ## True\n",
    "print(contains('b', letters)) ## False\n",
    "```\n",
    "\n",
    "There are a few different ways to approach this, so try it out, and we'll share two solutions after."
   ]
  },
  {
   "cell_type": "code",
   "execution_count": null,
   "metadata": {},
   "outputs": [],
   "source": [
    "# Loose wrapper for recursive binary search, returning True if the index is found and False if not\n",
    "def contains(target, source):\n",
    "    return recursive_binary_search(target, source) is not None\n",
    "\n",
    "letters = ['a', 'c', 'd', 'f', 'g']\n",
    "print(contains('a', letters)) ## True\n",
    "print(contains('b', letters)) ## False\n",
    "\n"
   ]
  },
  {
   "cell_type": "code",
   "execution_count": null,
   "metadata": {},
   "outputs": [],
   "source": [
    "# Native implementation of binary search in the `contains` function.\n",
    "def contains(target, source):\n",
    "    if len(source) == 0:\n",
    "        return False\n",
    "    center = (len(source)-1) // 2\n",
    "    if source[center] == target:\n",
    "        return True\n",
    "    elif source[center] < target:\n",
    "        return contains(target, source[center+1:])\n",
    "    else:\n",
    "        return contains(target, source[:center])\n",
    "\n",
    "letters = ['a', 'c', 'd', 'f', 'g']\n",
    "print(contains('c', letters)) ## True\n",
    "print(contains('b', letters)) ## False\n",
    "\n"
   ]
  },
  {
   "cell_type": "markdown",
   "metadata": {},
   "source": [
    "## Awesome work!"
   ]
  }
 ],
 "metadata": {
  "kernelspec": {
   "display_name": "Python 3",
   "language": "python",
   "name": "python3"
  },
  "language_info": {
   "codemirror_mode": {
    "name": "ipython",
    "version": 3
   },
   "file_extension": ".py",
   "mimetype": "text/x-python",
   "name": "python",
   "nbconvert_exporter": "python",
   "pygments_lexer": "ipython3",
   "version": "3.7.3"
  }
 },
 "nbformat": 4,
 "nbformat_minor": 2
}
