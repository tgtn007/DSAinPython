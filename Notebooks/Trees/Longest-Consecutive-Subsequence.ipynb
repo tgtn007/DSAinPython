{
 "cells": [
  {
   "cell_type": "markdown",
   "metadata": {
    "graffitiCellId": "id_vhxf50c"
   },
   "source": [
    "### Problem Statement\n",
    "\n",
    "Given list of integers that contain numbers in random order, write a program to find the longest possible sub sequence of consecutive numbers in the array. Return this subsequence in sorted order. The solution must take O(n) time\n",
    "\n",
    "For e.g. given the list `5, 4, 7, 10, 1, 3, 55, 2`, the output should be `1, 2, 3, 4, 5`\n",
    "\n",
    "*Note- If two arrays are of equal length return the array whose index of smallest element comes first.*\n",
    "\n"
   ]
  },
  {
   "cell_type": "code",
   "execution_count": null,
   "metadata": {
    "graffitiCellId": "id_r15x1vg"
   },
   "outputs": [],
   "source": [
    "def longest_consecutive_subsequence(input_list):\n",
    "    element_dict = dict()\n",
    "\n",
    "    for index, element in enumerate(input_list):\n",
    "        element_dict[element] = index\n",
    "\n",
    "    max_length = -1\n",
    "    starts_at = len(input_list)\n",
    "\n",
    "    for index, element in enumerate(input_list):\n",
    "        current_starts = index\n",
    "        element_dict[element] = -1\n",
    "\n",
    "        current_count = 1\n",
    "\n",
    "        # check upwards\n",
    "        current = element + 1\n",
    "\n",
    "        while current in element_dict and element_dict[current] > 0:\n",
    "            current_count += 1\n",
    "            element_dict[current] = -1\n",
    "            current = current + 1\n",
    "\n",
    "        # check downwards\n",
    "        current = element - 1\n",
    "        while current in element_dict and element_dict[current] > 0:\n",
    "            current_starts = element_dict[current]\n",
    "            current_count += 1\n",
    "            element_dict[current] = -1\n",
    "            current = current - 1\n",
    "\n",
    "        if current_count >= max_length:\n",
    "            if current_count == max_length and current_starts > starts_at:\n",
    "                continue\n",
    "            starts_at = current_starts\n",
    "            max_length = current_count\n",
    "\n",
    "    start_element = input_list[starts_at]\n",
    "    return [element for element in range(start_element, start_element + max_length)]\n",
    "\n",
    "\n",
    "\n"
   ]
  },
  {
   "cell_type": "code",
   "execution_count": null,
   "metadata": {
    "graffitiCellId": "id_eaee7mz"
   },
   "outputs": [],
   "source": [
    "def longest_consecutive_subsequence(input_list):\n",
    "    # TODO: Write longest consecutive subsequence solution\n",
    "    \n",
    "    # iterate over the list and store element in a suitable data structure\n",
    "    \n",
    "    \n",
    "    # traverse / go over the data structure in a reasonable order to determine the solution\n",
    "    pass\n"
   ]
  },
  {
   "cell_type": "code",
   "execution_count": null,
   "metadata": {
    "graffitiCellId": "id_hlznh6q"
   },
   "outputs": [],
   "source": [
    "def test_function(test_case):\n",
    "    output = longest_consecutive_subsequence(test_case[0])\n",
    "    if output == test_case[1]:\n",
    "        print(\"Pass\")\n",
    "    else:\n",
    "        print(\"Fail\")\n",
    "    "
   ]
  },
  {
   "cell_type": "code",
   "execution_count": null,
   "metadata": {
    "graffitiCellId": "id_z2y7gsr"
   },
   "outputs": [],
   "source": [
    "test_case_1 = [[5, 4, 7, 10, 1, 3, 55, 2], [1, 2, 3, 4, 5]]\n",
    "test_function(test_case_1)"
   ]
  },
  {
   "cell_type": "code",
   "execution_count": null,
   "metadata": {
    "graffitiCellId": "id_a3yf5ol"
   },
   "outputs": [],
   "source": [
    "test_case_2 = [[2, 12, 9, 16, 10, 5, 3, 20, 25, 11, 1, 8, 6 ], [8, 9, 10, 11, 12]]\n",
    "test_function(test_case_2)"
   ]
  },
  {
   "cell_type": "code",
   "execution_count": null,
   "metadata": {
    "graffitiCellId": "id_u5rs0q7"
   },
   "outputs": [],
   "source": [
    "test_case_3 = [[0, 1, 2, 3, 4], [0, 1, 2, 3, 4]]\n",
    "test_function(test_case_3)"
   ]
  },
  {
   "cell_type": "markdown",
   "metadata": {
    "graffitiCellId": "id_et1ek54"
   },
   "source": [
    "<span class=\"graffiti-highlight graffiti-id_et1ek54-id_r15x1vg\"><i></i><button>Show Solution</button></span>"
   ]
  }
 ],
 "metadata": {
  "graffiti": {
   "firstAuthorId": "10694620118",
   "id": "id_alotytm",
   "language": "EN"
  },
  "kernelspec": {
   "display_name": "Python 3",
   "language": "python",
   "name": "python3"
  },
  "language_info": {
   "codemirror_mode": {
    "name": "ipython",
    "version": 3
   },
   "file_extension": ".py",
   "mimetype": "text/x-python",
   "name": "python",
   "nbconvert_exporter": "python",
   "pygments_lexer": "ipython3",
   "version": "3.6.3"
  }
 },
 "nbformat": 4,
 "nbformat_minor": 2
}
